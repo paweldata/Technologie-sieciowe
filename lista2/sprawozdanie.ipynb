{
 "cells": [
  {
   "cell_type": "markdown",
   "metadata": {},
   "source": [
    "# Technologie Sieciowe sprawozdanie z listy drugiej\n",
    "*Paweł Data*\n",
    "\n",
    "## Zadanie 1\n",
    "Rozważmy model sieci S = <G,H>. Przez N=[n(i,j)] będziemy oznaczać macierz natężeń strumienia pakietów, gdzie element n(i,j) jest liczbą pakietów przesyłanych (wprowadzanych do sieci) w ciągu sekundy od źródła v(i) do ujścia v(j).\n",
    "\n",
    "### Zadanie 1.1\n",
    "Zaproponuj topologię grafu G ale tak aby żaden wierzchołek nie był izolowany oraz aby: |V|=20, |E|<30. Zaproponuj N oraz następujące funkcje krawędzi ze zbioru H: funkcję przepustowości 'c' (rozumianą jako maksymalną liczbę bitów, którą można wprowadzić do kanału komunikacyjnego w ciągu sekundy), oraz funkcję przepływu 'a' (rozumianą jako faktyczną liczbę pakietów, które wprowadza się do kanału komunikacyjego w ciągu sekundy). Pamiętaj aby funkcja przeplywu realizowała macierz N oraz aby dla każdego kanału 'e' zachodziło: c(e) > a(e).\n",
    "\n",
    "We wszystkich zadaniach będę rozważał ten sam graf, połączony 26 krawędziami (pierwsze 19 z nich ustalam tak, by graf był spójny i 7 są ustalane losowo)."
   ]
  },
  {
   "cell_type": "code",
   "execution_count": 5,
   "metadata": {},
   "outputs": [
    {
     "data": {
      "image/png": "[encoded data removed]",
      "text/plain": [
       "<Figure size 432x288 with 1 Axes>"
      ]
     },
     "metadata": {},
     "output_type": "display_data"
    }
   ],
   "source": [
    "import networkx as nx\n",
    "from random import randint\n",
    "\n",
    "def addNewEdges(graph, number):\n",
    "    while number > 0:\n",
    "        node1 = randint(0, graph.number_of_nodes())\n",
    "        node2 = randint(0, graph.number_of_nodes())\n",
    "        if node1 != node2 and not graph.has_edge(node1, node2):\n",
    "            graph.add_edge(node1, node2)\n",
    "            number -= 1\n",
    "\n",
    "\n",
    "graph = nx.Graph()\n",
    "graph.add_nodes_from([i for i in range(20)])\n",
    "graph.add_edges_from([(i, i + 1) for i in range(19)])\n",
    "addNewEdges(graph, 7)\n",
    "\n",
    "nx.draw(graph)\n"
   ]
  },
  {
   "cell_type": "markdown",
   "metadata": {},
   "source": [
    "Ustalmy macierz N losowymi liczbami od 10 do 20,\n",
    "funckję a jako suma przesyłanych bitów przez najkrótsze ścieżki, \n",
    "funkcję c jako stałą 2048."
   ]
  },
  {
   "cell_type": "code",
   "execution_count": 6,
   "metadata": {},
   "outputs": [],
   "source": [
    "N = [[randint(10,20) for _ in range(20)] for _ in range(20)]\n",
    "\n",
    "\n",
    "def setA(graph, N):\n",
    "    nx.set_edge_attributes(graph, 0, 'a')\n",
    "    for i in range(20):\n",
    "        for j in range(20):\n",
    "            path = nx.shortest_path(graph, i, j)\n",
    "            for k in range(len(path) - 1):\n",
    "                graph[path[k]][path[k + 1]]['a'] += N[i][j]\n",
    "\n",
    "\n",
    "setA(graph, N)\n",
    "nx.set_edge_attributes(graph, 2048, 'c')\n"
   ]
  },
  {
   "cell_type": "markdown",
   "metadata": {},
   "source": [
    "Sprawdźmy, czy c(e)/m > a(e) dla dażdej krawędzi. Przyjmijmy m = 1"
   ]
  },
  {
   "cell_type": "code",
   "execution_count": 7,
   "metadata": {},
   "outputs": [
    {
     "name": "stdout",
     "output_type": "stream",
     "text": [
      "True\n"
     ]
    }
   ],
   "source": [
    "m = 1\n",
    "\n",
    "def check(graph):\n",
    "    aValue = nx.get_edge_attributes(graph, 'a')\n",
    "    cValue = nx.get_edge_attributes(graph, 'c')\n",
    "    for edge in nx.edges(graph):\n",
    "        if cValue[edge]/m <= aValue[edge]:\n",
    "            return False\n",
    "    return True\n",
    "\n",
    "\n",
    "print(check(graph))\n"
   ]
  },
  {
   "cell_type": "markdown",
   "metadata": {},
   "source": [
    "### Zadanie 1.2\n",
    "Niech miarą niezawodności sieci jest prawdopodobieństwo tego, że w dowolnym przedziale czasowym, nierozspójniona sieć zachowuje T < T_max, gdzie: T = 1/G * SUM_e( a(e)/(c(e)/m - a(e)) ), jest średnim opóźnieniem pakietu w sieci, SUM_e oznacza sumowanie po wszystkich krawędziach 'e' ze zbioru E, 'G' jest sumą wszystkich elementów macierzy natężeń, a 'm' jest średnią wielkością pakietu w bitach. Napisz program szacujący niezawodność takiej sieci przyjmując, że prawdopodobieństwo nieuszkodzenia każdej krawędzi w dowolnym interwale jest równe 'p'. Uwaga: 'N', 'p', 'T_max' oraz topologia wyjsciowa sieci są parametrami."
   ]
  },
  {
   "cell_type": "code",
   "execution_count": 8,
   "metadata": {
    "scrolled": true
   },
   "outputs": [],
   "source": [
    "from random import random\n",
    "\n",
    "\n",
    "def delay(graph, N):\n",
    "    aValue = nx.get_edge_attributes(graph, 'a')\n",
    "    cValue = nx.get_edge_attributes(graph, 'c')\n",
    "    return sum(aValue[edge] / (cValue[edge]/m - aValue[edge]) for edge in graph.edges())\n",
    "\n",
    "\n",
    "def getReliability(graph, N, p, T_max, tries=1000):\n",
    "    success = 0\n",
    "    \n",
    "    for _ in range(tries):\n",
    "        tempG = nx.Graph(graph)\n",
    "        tempG.remove_edges_from([edge for edge in tempG.edges() if random() > p ])\n",
    "        \n",
    "        if nx.is_connected(tempG):\n",
    "            setA(tempG, N)\n",
    "            if check(tempG) and delay(tempG, N) < T_max:\n",
    "                if delay(tempG, N) < 0:\n",
    "                    print('lipa')\n",
    "                success += 1\n",
    "\n",
    "    return success / tries\n"
   ]
  },
  {
   "cell_type": "markdown",
   "metadata": {},
   "source": [
    "Ustalmy p i T_max"
   ]
  },
  {
   "cell_type": "code",
   "execution_count": 9,
   "metadata": {},
   "outputs": [],
   "source": [
    "p = 0.9\n",
    "T_max = 30\n"
   ]
  },
  {
   "cell_type": "markdown",
   "metadata": {},
   "source": [
    "### Zadanie 1.3\n",
    "Przy ustalonej strukturze topologicznej sieci i dobranych przepustowościach stopniowo zwiększaj wartości w macierzy natężeń. Jak będzie zmieniać się niezawodność zdefiniowana tak jak punkcie poprzednim (Pr[T < T_max])?\n",
    "\n",
    "Aktualna niezawodność:"
   ]
  },
  {
   "cell_type": "code",
   "execution_count": 10,
   "metadata": {},
   "outputs": [
    {
     "data": {
      "text/plain": [
       "0.387"
      ]
     },
     "execution_count": 10,
     "metadata": {},
     "output_type": "execute_result"
    }
   ],
   "source": [
    "getReliability(graph, N, p, T_max)\n"
   ]
  },
  {
   "cell_type": "markdown",
   "metadata": {},
   "source": [
    "W macierzy N są wartości między 10 a 20, będę te wartości zwiększał o 1 i sprawdzał niezawodność"
   ]
  },
  {
   "cell_type": "code",
   "execution_count": 12,
   "metadata": {},
   "outputs": [
    {
     "name": "stdout",
     "output_type": "stream",
     "text": [
      "wiecej o 1 niezawodnosc 0.384\n",
      "wiecej o 2 niezawodnosc 0.283\n",
      "wiecej o 3 niezawodnosc 0.192\n",
      "wiecej o 4 niezawodnosc 0.147\n",
      "wiecej o 5 niezawodnosc 0.124\n",
      "wiecej o 6 niezawodnosc 0.0\n",
      "wiecej o 7 niezawodnosc 0.0\n",
      "wiecej o 8 niezawodnosc 0.0\n"
     ]
    }
   ],
   "source": [
    "for i in range(1, 9):\n",
    "    tempN = [[x + i for x in line] for line in N]\n",
    "    print('wiecej o', i, 'niezawodnosc', getReliability(graph, tempN, p, T_max)) \n",
    "    "
   ]
  },
  {
   "cell_type": "markdown",
   "metadata": {},
   "source": [
    "Jak widać niezawodność znacznie spada przy większej ilości pakietów.\n",
    "\n",
    "### Zadanie 1.4\n",
    "Przy ustalonej macierzy natężeń i strukturze topologicznej stopniowo zwiększaj przepustowości. Jak będzie zmieniać się niezawodność zdefiniowana tak jak punkcie poprzednim (Pr[T < T_max])?\n",
    "\n",
    "Teraz c wynosi 2048, tą wartość będę zwiększał i sprawdzę, jak zmieni się niezawodność"
   ]
  },
  {
   "cell_type": "code",
   "execution_count": 13,
   "metadata": {},
   "outputs": [
    {
     "name": "stdout",
     "output_type": "stream",
     "text": [
      "maks przepustowosc 2304 niezawodnosc 0.54\n",
      "maks przepustowosc 2560 niezawodnosc 0.682\n",
      "maks przepustowosc 2816 niezawodnosc 0.708\n",
      "maks przepustowosc 3072 niezawodnosc 0.714\n",
      "maks przepustowosc 3328 niezawodnosc 0.738\n",
      "maks przepustowosc 3584 niezawodnosc 0.776\n",
      "maks przepustowosc 3840 niezawodnosc 0.8\n",
      "maks przepustowosc 4096 niezawodnosc 0.789\n",
      "maks przepustowosc 4352 niezawodnosc 0.787\n",
      "maks przepustowosc 4608 niezawodnosc 0.769\n",
      "maks przepustowosc 4864 niezawodnosc 0.766\n",
      "maks przepustowosc 5120 niezawodnosc 0.773\n",
      "maks przepustowosc 5376 niezawodnosc 0.782\n",
      "maks przepustowosc 5632 niezawodnosc 0.778\n",
      "maks przepustowosc 5888 niezawodnosc 0.783\n",
      "maks przepustowosc 6144 niezawodnosc 0.773\n"
     ]
    }
   ],
   "source": [
    "tempG = nx.Graph(graph)\n",
    "\n",
    "for i in range(256, 4099, 256):\n",
    "    nx.set_edge_attributes(tempG, 2048 + i, 'c')\n",
    "    print('maks przepustowosc', 2048 + i, 'niezawodnosc', getReliability(tempG, N, p, T_max))\n",
    "    "
   ]
  },
  {
   "cell_type": "markdown",
   "metadata": {},
   "source": [
    "Zgodnie z intuicją, na początku niezawodność się zwiększa. Potem niezawodność przestaje rosnąć i mimo większej przepustowości jest stale w pewnym przedziale (który powstaje przez losowość w funkcji getReliability()). Wynika z tego, że od pewnej wysokiej wartości c większym problemem jest sama spójność grafu niż ograniczenie przepustowości.\n",
    "\n",
    "### Zadanie 1.5\n",
    "Przy ustalonej macierzy natężeń i pewnej początkowej strukturze topologicznej, stopniowo zmieniaj topologię poprzez dodawanie nowych krawędzi o przepustowościach będących wartościami średnimi dla sieci początkowej. Jak będzie zmieniać się niezawodność zdefiniowana tak jak punkcie poprzednim (Pr[T < T_max])?\n",
    "\n",
    "Na początku ustaliłem ilość krawędzi równą 26.\n",
    "Co petlę dodam 1 nową krawędź."
   ]
  },
  {
   "cell_type": "code",
   "execution_count": 15,
   "metadata": {
    "scrolled": true
   },
   "outputs": [
    {
     "name": "stdout",
     "output_type": "stream",
     "text": [
      "ilosc krawedzi 27 niezawodnosc 0.528\n",
      "ilosc krawedzi 28 niezawodnosc 0.686\n",
      "ilosc krawedzi 29 niezawodnosc 0.829\n",
      "ilosc krawedzi 30 niezawodnosc 0.911\n",
      "ilosc krawedzi 31 niezawodnosc 0.821\n",
      "ilosc krawedzi 32 niezawodnosc 0.756\n",
      "ilosc krawedzi 33 niezawodnosc 0.758\n",
      "ilosc krawedzi 34 niezawodnosc 0.696\n",
      "ilosc krawedzi 35 niezawodnosc 0.778\n",
      "ilosc krawedzi 36 niezawodnosc 0.77\n",
      "ilosc krawedzi 37 niezawodnosc 0.806\n",
      "ilosc krawedzi 38 niezawodnosc 0.786\n",
      "ilosc krawedzi 39 niezawodnosc 0.782\n",
      "ilosc krawedzi 40 niezawodnosc 0.794\n",
      "ilosc krawedzi 41 niezawodnosc 0.897\n"
     ]
    }
   ],
   "source": [
    "tempG = nx.Graph(graph)\n",
    "\n",
    "\n",
    "for i in range(1, 16, 1):\n",
    "    new = 0\n",
    "    while new < 2:\n",
    "        node1 = randint(0, tempG.number_of_nodes())\n",
    "        node2 = randint(0, tempG.number_of_nodes())\n",
    "        if not tempG.has_edge(node1, node2):\n",
    "            tempG.add_edge(node1, node2)\n",
    "            tempG[node1][node2]['c'] = 2048\n",
    "            new += 1\n",
    "\n",
    "    setA(tempG, N)\n",
    "    print('ilosc krawedzi', 26 + i, 'niezawodnosc', getReliability(tempG, N, p, T_max))\n",
    "    "
   ]
  },
  {
   "cell_type": "markdown",
   "metadata": {},
   "source": [
    "Niezawodność z reguły rośnie. Są momenty, gdy maleje, ale jest to spowodowane tym, w jaki sposób zdefiniowałem trasę pakietów. W niektórych przypadkach dodanie jednej krawędzi może spowodować, że wiele pakietów zmieni trasę i wybieże nową przechodzącą przez własnie dodaną krawędź która będzie \"wąskim gardłem\"."
   ]
  }
 ],
 "metadata": {
  "kernelspec": {
   "display_name": "Python 3",
   "language": "python",
   "name": "python3"
  },
  "language_info": {
   "codemirror_mode": {
    "name": "ipython",
    "version": 3
   },
   "file_extension": ".py",
   "mimetype": "text/x-python",
   "name": "python",
   "nbconvert_exporter": "python",
   "pygments_lexer": "ipython3",
   "version": "3.7.3"
  }
 },
 "nbformat": 4,
 "nbformat_minor": 2
}
